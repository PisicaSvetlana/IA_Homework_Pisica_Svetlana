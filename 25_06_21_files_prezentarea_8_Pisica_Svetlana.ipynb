{
 "cells": [
  {
   "cell_type": "code",
   "execution_count": 27,
   "id": "747e67fb",
   "metadata": {},
   "outputs": [
    {
     "name": "stdout",
     "output_type": "stream",
     "text": [
      "['1+1=2\\n', '1 kg de mere costa 6 lei\\n', 'Eu am parcurs 200 de k in 30 minute\\n', 'Tu ai 66 de kg'] \n",
      "\n",
      "Cifre identificate in fisier:  12\n",
      "Litere identificare in fisier:  46\n"
     ]
    }
   ],
   "source": [
    "''' HOMEWORK FILES  PISICA SVETLANA     Exercitiul 14 pagina 116\n",
    "    \n",
    "   Sa da un fisier text in care fiecare rind contine cel mult 255 de caractere. \n",
    "   Sa se numere literele si cifrele din acest fisier    '''\n",
    "\n",
  
    "\n",
    "f = open ('home_work_file_1.txt','r')\n",
    "liniile_extrase = f.readlines ()\n",
    "f.close ()\n",
    "\n",
    "print (liniile_extrase,'\\n')\n",
    "\n",
    "nr_cifre = 0\n",
    "nr_litere = 0\n",
    "\n",
    "\n",
    "import string\n",
    "litere = string.ascii_lowercase + string.ascii_uppercase \n",
    "cifre = ['0','1','2','3','4','5','6','7','8','9']\n",
    "\n",
    "\n",
    "for linie in liniile_extrase:\n",
    "    for simbol in linie:\n",
    "        if simbol in cifre:\n",
    "            nr_cifre += 1\n",
    "        if simbol in litere: \n",
    "            nr_litere +=1\n",
    "            \n",
    "print ('Cifre identificate in fisier: ', nr_cifre)    \n",
    "print ('Litere identificare in fisier: ', nr_litere)\n",
    "\n"
   ]
  },
  {
   "cell_type": "code",
   "execution_count": 38,
   "id": "0e0502c3",
   "metadata": {},
   "outputs": [
    {
     "name": "stdout",
     "output_type": "stream",
     "text": [
      "Rindul  1 :\n",
      "Maicuta mea: gradina\n",
      "Continuam ?: yes\n",
      "Rindul  2 :\n",
      "Cu flori, cu nuci si mere,\n",
      "Continuam ?: yes\n",
      "Rindul  3 :\n",
      "A ochilor lumina,\n",
      "Continuam ?: yes\n",
      "Rindul  4 :\n",
      "Vazduhul gurii mele!\n",
      "Continuam ?: no\n",
      "['Maicuta mea: gradina\\n', 'Cu flori, cu nuci si mere,\\n', 'A ochilor lumina,\\n', 'Vazduhul gurii mele!\\n'] \n",
      "\n",
      "\n",
      "Toate lungimile:  21 27 18 21 \n",
      "\n",
      "Lungimea minima =  18 \n",
      "\n",
      "Liniile cu lungime minima sunt :\n",
      "\n",
      "A ochilor lumina,\n",
      "\n"
     ]
    }
   ],
   "source": [
    "'''\n",
    "HOMEWORK FILES  PISICA SVETLANA     Exercitiul 15 pagina 116\n",
    "    \n",
    "   Sa da un fisier text in care fiecare rind contine cel mult 255 de caractere. \n",
    "   Sa se afiseze la ecran rindurile de lungime minimala.     '''\n",
    "\n",
    "#  Inscrierea frazelor/ propozitiilor de la tastatura in fisier print-un proces de repetare\n",
    "\n",
    "continuam = 'yes'\n",
    "rind = 1\n",
    "\n",
    "f = open ('home_work_file.txt','w')\n",
    "while continuam == 'yes':\n",
    "    print ('Rindul ', rind, ':')\n",
    "    f.write (input())\n",
    "    f.write ('\\n')\n",
    "    continuam = input ('Continuam ?: ')\n",
    "    rind += 1\n",
    " \n",
    "f.close ()       # am finista inscrierea frazelor in fisier\n",
    "\n",
    "################################################################################################\n",
    "# accesam fisierul si determinam cea mai mica lungime a rindurilor \n",
    "\n",
    "f = open ('home_work_file.txt','r')\n",
    "liniile_extrase = f.readlines ()\n",
    "f.close ()\n",
    "\n",
    "print (liniile_extrase,'\\n')\n",
    "\n",
    "# Determinam cea mai mica lungime a rindurilor\n",
    "\n",
    "lungime_minima = 255\n",
    "print ('\\nToate lungimile: ', end=' ')\n",
    "for linie in liniile_extrase: \n",
    "    print (len (linie), end=' ')\n",
    "    if len (linie) <= lungime_minima:\n",
    "        lungime_minima = len (linie)\n",
    "        \n",
    "print ('\\n\\nLungimea minima = ',lungime_minima,'\\n') \n",
    "\n",
    "# Afisam liniile cu lungime  minima\n",
    "\n",
    "print ('Liniile cu lungime minima sunt :\\n')\n",
    "\n",
    "for linie in liniile_extrase:\n",
    "    if len(linie) == lungime_minima:\n",
    "        print (linie)\n",
    "        "
   ]
  },
  {
   "cell_type": "code",
   "execution_count": 37,
   "id": "697d2cbf",
   "metadata": {},
   "outputs": [],
   "source": [
    "# exersare\n",
    "\n",
    "f = open (\"fisier.txt\", \"w\")    # deschiderea fisierului pentru scriere\n",
    "f.write (\"Svetlana Pisica\\n\")              # scrim date in fisier\n",
    "f.close ()                        # inchidem fisierul la final\n",
    "\n",
    "\n",
    "# f = open (\"fisier.txt\", \"w\")     # daca deschidem din nou fisierul cu dreptul w, datele vor fi rescrise\n"
   ]
  },
  {
   "cell_type": "code",
   "execution_count": 5,
   "id": "bcd1ecc2",
   "metadata": {},
   "outputs": [],
   "source": [
    "f = open (\"fisier.txt\", \"a\")       # deschidem fisierul cu drept de a continua scrierea - append\n",
    "f.write ('invata Python\\n')             # scrim date in fisier\n",
    "f.close ()                         # inchidem fisierul"
   ]
  },
  {
   "cell_type": "code",
   "execution_count": null,
   "id": "f2d8f3c9",
   "metadata": {},
   "outputs": [],
   "source": [
    "f = open ('fisier.txt', 'r')           #  deschidem fisierul cu drept de a citi\n",
    "\n",
    "for linie in f:                        # extragem cite o linie din fisier\n",
    "    print (linie)\n",
    "\n",
    "f.close ()    "
   ]
  },
  {
   "cell_type": "code",
   "execution_count": null,
   "id": "7047f742",
   "metadata": {},
   "outputs": [],
   "source": [
    "# functiile tell   si seek \n",
    "\n",
    "f = open ('fisier.txt','r')\n",
    "\n",
    "for linia in f:\n",
    "    print (linia)\n",
    "    \n",
    "print ('Pozitia cursorului in fisier : ', f.tell())           # f.tell ()   indica pozitia cursorului in fisier \n",
    "\n",
    "f.seek (0)  #f.seek   muta pozitia cursorului in pozitia indicata\n",
    "f.close()\n",
    "    "
   ]
  },
  {
   "cell_type": "code",
   "execution_count": null,
   "id": "0cbca3f6",
   "metadata": {},
   "outputs": [],
   "source": [
    "# f.readline ()   citeste cite o linie din fisier\n",
    "\n",
    "f = open ('fisier.txt', 'r')\n",
    "print (f.readline ())             # functia f.readline() intoarce continutul unei linii din fisier \n",
    "print (f.readline())\n",
    "f.close()"
   ]
  },
  {
   "cell_type": "code",
   "execution_count": 10,
   "id": "35c83b39",
   "metadata": {},
   "outputs": [
    {
     "name": "stdout",
     "output_type": "stream",
     "text": [
      "['mere\\n', 'pere\\n', 'cirese\\n', 'caise\\n']\n"
     ]
    }
   ],
   "source": [
    "# f.readlines ()   citeste toate liniile din fisier\n",
    "\n",
    "f = open ('fisier.txt','w')\n",
    "f.write ('mere\\n')\n",
    "f.write ('pere\\n')\n",
    "f.write ('cirese\\n')\n",
    "f.write ('caise\\n')\n",
    "f.close()\n",
    "\n",
    "f = open ('fisier.txt', 'r')\n",
    "liniile_extrase = f.readlines ()\n",
    "f.close ()\n",
    "\n",
    "print (liniile_extrase)        # afisam continutul liniilor la ecran\n"
   ]
  },
  {
   "cell_type": "code",
   "execution_count": null,
   "id": "4e46d051",
   "metadata": {},
   "outputs": [],
   "source": [
    "# context managers \n",
    "\n",
    "\n",
    "with open ('fisier.txt', 'r') as f: \n",
    "    print (f.readlines())"
   ]
  },
  {
   "cell_type": "code",
   "execution_count": null,
   "id": "366dc8aa",
   "metadata": {},
   "outputs": [],
   "source": [
    "# Context managers \n",
    "\n",
    "datele_de_inscris = ['Vasile \\n', 'Maria\\n', 'Ana\\n', 'Ion\\n']\n",
    "\n",
    "with open ('fisier_2.txt', 'w') as fs:     \n",
    "    fs.writelines (datele_de_inscris)          # am inscris liniiele cu datele in fisier\n",
    "    \n",
    "    \n",
    "with open ('fisier_2.txt','r') as fs:\n",
    "    print (fs.readlines())                      # am extras liniile din fisier la ecran\n",
    "    \n",
    "    "
   ]
  },
  {
   "cell_type": "code",
   "execution_count": null,
   "id": "9a62fe13",
   "metadata": {},
   "outputs": [],
   "source": [
    "# binary files\n",
    "\n",
    "import pickle\n",
    "\n",
    "date_de_stocat = [1,2,3,4,5,6]\n",
    "\n",
    "pickle.dump(date_de_stocat, open ('list.txt', 'wb'))     # parametrul 'wb'  write binary \n",
    " # daca deschidem fisierul nu putem citi datele, sunt binare\n",
    "\n",
    "###################################################################\n",
    "\n",
    "lista_extrasa = pickle.load (open ('list.txt', 'rb'))         # parametrul 'rb' read binary \n",
    "print (lista_extrasa)\n",
    " # datele au fost decodificate si afisate la ecran \n"
   ]
  },
  {
   "cell_type": "code",
   "execution_count": null,
   "id": "54061827",
   "metadata": {},
   "outputs": [],
   "source": [
    "# json files\n",
    "\n",
    "import json\n",
    "\n",
    "date_structurate = ['unu','doi', 'trei']\n",
    "json.dump (date_structurate, open ('data.json', 'w')) \n",
    "\n",
    "# date_structurate poate fi un dictionar sau o lista \n",
    "\n",
    "\n",
    "\n",
    "extrase = json.load (open ('data.json', 'r'))\n",
    "\n",
    "print (extrase)"
   ]
  },
  {
   "cell_type": "code",
   "execution_count": null,
   "id": "9b30c1d5",
   "metadata": {},
   "outputs": [],
   "source": []
  }
 ],
 "metadata": {
  "kernelspec": {
   "display_name": "Python 3",
   "language": "python",
   "name": "python3"
  },
  "language_info": {
   "codemirror_mode": {
    "name": "ipython",
    "version": 3
   },
   "file_extension": ".py",
   "mimetype": "text/x-python",
   "name": "python",
   "nbconvert_exporter": "python",
   "pygments_lexer": "ipython3",
   "version": "3.7.8"
  }
 },
 "nbformat": 4,
 "nbformat_minor": 5
}
