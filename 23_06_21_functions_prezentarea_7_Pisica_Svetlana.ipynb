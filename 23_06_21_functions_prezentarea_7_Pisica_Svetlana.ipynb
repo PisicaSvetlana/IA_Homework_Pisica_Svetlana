{
 "cells": [
  {
   "cell_type": "code",
   "execution_count": 103,
   "id": "dce6a7ec",
   "metadata": {},
   "outputs": [
    {
     "name": "stdout",
     "output_type": "stream",
     "text": [
      "Latura a = 7.0\n",
      "Latura b = 12.0\n",
      "Latura c = 15.0\n",
      "\n",
      " Meadiana laturii a =  13.124404748406688 \n",
      " Mediana laturii b =  10.04987562112089 \n",
      " Mediana laturii c=  6.34428877022476\n"
     ]
    }
   ],
   "source": [
    "'''   HOME WORK Pisica Svetlana Exercitiul 8 pagina 127  \n",
    "\n",
    "Se dau numerele reale pozitive a, b, c, care sunt lungimile laturilor unui triunghi. \n",
    "Sa se calculeze lungimile medianelor Ma = 0.5* radical (2*b*b +2*c*c-a*a)   '''\n",
    "\n",
    "import math \n",
    "\n",
    "n_1 = float (input (\"Latura a = \"))   # se introduc lungimile laturilor \n",
    "n_2 = float (input (\"Latura b = \"))\n",
    "n_3 = float (input (\"Latura c = \"))\n",
    "\n",
    "def calcul_mediane (a,b,c):\n",
    "    return 0.5 * math.sqrt (2*b*b + 2*c*c - a*a),  0.5 * math.sqrt (2*a*a + 2*c*c - b*b), 0.5 * math.sqrt (2*a*a + 2*b*b - c*c)\n",
    "\n",
    "m_a,m_b,m_c =  calcul_mediane (n_1, n_2, n_3)\n",
    "\n",
    "print ( \"\\n Meadiana laturii a = \", m_a,\"\\n Mediana laturii b = \", m_b,\"\\n Mediana laturii c= \", m_c)"
   ]
  },
  {
   "cell_type": "code",
   "execution_count": 105,
   "id": "6869653b",
   "metadata": {},
   "outputs": [
    {
     "name": "stdout",
     "output_type": "stream",
     "text": [
      "Latura a = 7.0\n",
      "Latura b = 12.0\n",
      "Latura c = 15.0\n",
      "\n",
      " Aria triunghiului = 40.173840991371485  \n",
      " \n",
      " Inaltimea laturii a =  11.478240283248995 \n",
      " Inaltimea laturii b =  6.695640165228581 \n",
      " Inaltimea laturii c=  5.356512132182865\n"
     ]
    }
   ],
   "source": [
    "'''   HOME WORK Pisica Svetlana Exercitiul 9 pagina 127  \n",
    "\n",
    "Se dau numerele reale pozitive a, b, c, care sunt lungimile laturilor unui triunghi. \n",
    "Sa se calculeze inaltimile triunghiului Aria = (h_a * a ) / 2 \n",
    "\n",
    "h_a inaltimea laturii a \n",
    "\n",
    "'''\n",
    "\n",
    "import math \n",
    "\n",
    "n_1 = float (input (\"Latura a = \"))\n",
    "n_2 = float (input (\"Latura b = \"))\n",
    "n_3 = float (input (\"Latura c = \"))\n",
    "\n",
    "def aria (a,b,c):\n",
    "    s = (a+b+c)/2                              # semiperimetru \n",
    "    return math.sqrt (s* (s-a)*(s-b)*(s-c))    # returnarea ariei \n",
    "\n",
    "A = aria (n_1,n_2, n_2)\n",
    "\n",
    "\n",
    "def calcul_inaltimi (a,b,c, A):\n",
    "    \n",
    "    return 2*A /a ,  2*A / b, 2*A / c\n",
    "\n",
    "h_a,h_b,h_c =  calcul_inaltimi (n_1, n_2, n_3,A)\n",
    "\n",
    "print ( \"\\n Aria triunghiului =\", A, \" \\n \\n Inaltimea laturii a = \", h_a,\"\\n Inaltimea laturii b = \", h_b,\"\\n Inaltimea laturii c= \", h_c)"
   ]
  },
  {
   "cell_type": "code",
   "execution_count": 106,
   "id": "84005e39",
   "metadata": {},
   "outputs": [
    {
     "name": "stdout",
     "output_type": "stream",
     "text": [
      "x = 8\n",
      "y = 5\n",
      "suma numerelor 8 si 5 este 13\n"
     ]
    }
   ],
   "source": [
    "# functia poate returna un rezultat cu return \n",
    "\n",
    "\n",
    "x= int(input (\"x = \"))\n",
    "y= int (input (\"y = \"))\n",
    "\n",
    "def adunarea ( a, b):    # am definit o functie care aduna doua numere\n",
    "    return a + b   \n",
    "\n",
    "\n",
    "rezultat = adunarea (x, y)   # apelul functiei\n",
    "\n",
    "print (f\"suma numerelor {x} si {y} este {rezultat}\")"
   ]
  },
  {
   "cell_type": "code",
   "execution_count": 26,
   "id": "7b27ecb3",
   "metadata": {},
   "outputs": [
    {
     "name": "stdout",
     "output_type": "stream",
     "text": [
      "Scrie un text : python\n",
      "python\n",
      "Python\n"
     ]
    }
   ],
   "source": [
    "# functia poate fi considerata ca o metoda, daca nu returneaza nimic doar executa ceva\n",
    "\n",
    "def prima_litera_mare (textul):\n",
    "    print (textul.capitalize())\n",
    "    \n",
    "t = str(input(\"Scrie un text : \"))   \n",
    "print(t)\n",
    "prima_litera_mare (t)"
   ]
  },
  {
   "cell_type": "code",
   "execution_count": 109,
   "id": "60aee907",
   "metadata": {},
   "outputs": [
    {
     "name": "stdout",
     "output_type": "stream",
     "text": [
      "Numarul 1 = 18\n",
      "Numarul 1 = 7\n",
      "\n",
      " Citul impartirii 2\n",
      " Restul impartirii 4\n"
     ]
    }
   ],
   "source": [
    "n1 = int (input ('Numarul 1 = '))\n",
    "n2 = int (input ('Numarul 1 = '))\n",
    "\n",
    "def cit_rest (x,y ):\n",
    "    return x // y, x % y           # functia poate returna mai multe rezultate\n",
    "\n",
    "citul, restul = cit_rest (n1,n2) \n",
    "\n",
    "print (f\"\\n Citul impartirii {citul}\\n Restul impartirii {restul}\")"
   ]
  },
  {
   "cell_type": "code",
   "execution_count": 73,
   "id": "d21de862",
   "metadata": {},
   "outputs": [
    {
     "name": "stdout",
     "output_type": "stream",
     "text": [
      "Raza cercului = 3\n",
      "Aria cercului cu raza 3 si pi prestabili  este 28.274333882308138\n",
      "Aria cercului cu raza 3 si pi  3.14 este 28.26\n"
     ]
    }
   ],
   "source": [
    "from math import pi   # importam valoare lui pi din biblioteca math\n",
    "\n",
    "def aria_cercului (raza, valoare_pi=pi):       # al doile argument al functie are valoarea prestabilita pi din biblioteca math\n",
    "    return raza**2*valoare_pi                    # formula de calcul a arieri cercului\n",
    "\n",
    "\n",
    "r = int(input(\"Raza cercului = \"))                  \n",
    "\n",
    "rezultat = aria_cercului(r)                   # apelam funtia fara al doilea parametru care automat va fi pi\n",
    "print(f\"Aria cercului cu raza {r} si pi prestabili  este {rezultat}\")\n",
    "\n",
    "\n",
    "\n",
    "rezultat = aria_cercului(r, 3.14)                   # apelam funtia fara al doilea parametru care valoarea data\n",
    "print(f\"Aria cercului cu raza {r} si pi  3.14 este {rezultat}\")"
   ]
  },
  {
   "cell_type": "code",
   "execution_count": 75,
   "id": "38064c23",
   "metadata": {},
   "outputs": [
    {
     "name": "stdout",
     "output_type": "stream",
     "text": [
      " Suma numerelor este 43 \n",
      "  Media numerelor este 8.6\n"
     ]
    }
   ],
   "source": [
    "# numar dinamic de argumente pentru functie \n",
    "\n",
    "def Sumeaza_Medie (*secventa_numere):    # * inseamna ca putem introduce mai multe argumente intr-o lista numar dinamic de argumente\n",
    "    suma = 0\n",
    "    for numar in secventa_numere:\n",
    "        suma += numar\n",
    "    return suma, suma / len (secventa_numere)\n",
    "\n",
    "rezultat_1, rezultat_2 = Sumeaza_Medie (20,3,10,2,8)\n",
    "print (f\" Suma numerelor este {rezultat_1} \\n  Media numerelor este {rezultat_2}\")"
   ]
  },
  {
   "cell_type": "code",
   "execution_count": 67,
   "id": "dc415204",
   "metadata": {},
   "outputs": [
    {
     "name": "stdout",
     "output_type": "stream",
     "text": [
      "{'nume': 'Svetlana', 'prenume': 'Pisica', 'virsta': 38, 'casatorit': 'da', 'studii': 'superioare'}\n",
      "<class 'dict'>\n"
     ]
    }
   ],
   "source": [
    "# kwargs       functia cu argumente kwargs le transforma in dictionar \n",
    "\n",
    "def functie (**kwargs):\n",
    "    print (kwargs)     # argumentele se afiseaza sub forma de dictionar \n",
    "    print (type(kwargs))      # afisam tipul argumentelor kwargs   - dictionar \n",
    "    \n",
    "# apelam functia cu argumente perechi cimp = valoare     \n",
    "\n",
    "functie (nume = \"Svetlana\", prenume = \"Pisica\", virsta = 38, casatorit = \"da\", studii = \"superioare\")  "
   ]
  },
  {
   "cell_type": "code",
   "execution_count": 72,
   "id": "f41a05c4",
   "metadata": {},
   "outputs": [
    {
     "name": "stdout",
     "output_type": "stream",
     "text": [
      "Primul numar = 4\n",
      "Al doilea numar = 7\n",
      "11\n",
      "11\n"
     ]
    }
   ],
   "source": [
    "# functii lambda   care se scrie intr-un rind \n",
    "n1 = int (input ('Primul numar = '))\n",
    "n2 = int (input ('Al doilea numar = '))\n",
    "\n",
    "def adunarea (x, y):       # varianta functiei  scrisa in mai multe rinduri \n",
    "    return x + y\n",
    "\n",
    "print (adunarea (n1,n2))\n",
    "\n",
    "\n",
    "\n",
    "# varianta scrisa intr-un rind  lambda functie\n",
    "\n",
    "aduna = lambda a, b: a+b\n",
    "\n",
    "print (aduna(n1,n2))\n"
   ]
  },
  {
   "cell_type": "code",
   "execution_count": 76,
   "id": "3fadf8d3",
   "metadata": {},
   "outputs": [],
   "source": [
    "# cum se face un calculator \n"
   ]
  }
 ],
 "metadata": {
  "kernelspec": {
   "display_name": "Python 3",
   "language": "python",
   "name": "python3"
  },
  "language_info": {
   "codemirror_mode": {
    "name": "ipython",
    "version": 3
   },
   "file_extension": ".py",
   "mimetype": "text/x-python",
   "name": "python",
   "nbconvert_exporter": "python",
   "pygments_lexer": "ipython3",
   "version": "3.7.8"
  }
 },
 "nbformat": 4,
 "nbformat_minor": 5
}
