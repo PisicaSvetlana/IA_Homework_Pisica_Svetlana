{
 "cells": [
  {
   "cell_type": "code",
   "execution_count": 19,
   "id": "6c545e43",
   "metadata": {},
   "outputs": [
    {
     "name": "stdout",
     "output_type": "stream",
     "text": [
      "a= 1 \n",
      "b= 2 \n",
      "c= -15 \n",
      "delta= 64 \n",
      "\n",
      "x1= 3.0\n",
      "x2= -5.0\n"
     ]
    }
   ],
   "source": [
    "# solutii pentru ecuatie de gradul 2\n",
    "\n",
    "import math \n",
    "a=1 \n",
    "b=2 \n",
    "c=-15\n",
    "d=b*b-4*a*c\n",
    "\n",
    "print(\"a=\",a,\"\\nb=\",b,\"\\nc=\",c,\"\\ndelta=\",d,\"\\n\")\n",
    "\n",
    "if d<0:\n",
    "    print(\"Ecuatia nu are solutii\")\n",
    "elif d==0: \n",
    "    print(\"x1=x2=\",-b/2*a)\n",
    "elif delta>0:\n",
    "    x1=(-b+math.sqrt(d))/2\n",
    "    x2=(-b-math.sqrt(d))/2\n",
    "    print(\"x1=\",x1)\n",
    "    print(\"x2=\",x2)"
   ]
  },
  {
   "cell_type": "code",
   "execution_count": 21,
   "id": "208f42a3",
   "metadata": {},
   "outputs": [
    {
     "name": "stdout",
     "output_type": "stream",
     "text": [
      "distanta euclidina = 4.242640687119285\n"
     ]
    }
   ],
   "source": [
    "# distanta euclidiana \n",
    "import math\n",
    "\n",
    "x1=1\n",
    "x2=2\n",
    "y1=4\n",
    "y2=5\n",
    "\n",
    "d=math.sqrt((x1-y1)**2 + (x2-y2)**2)\n",
    "print(\"distanta euclidina =\",d)"
   ]
  },
  {
   "cell_type": "code",
   "execution_count": null,
   "id": "73106bc1",
   "metadata": {},
   "outputs": [],
   "source": []
  }
 ],
 "metadata": {
  "kernelspec": {
   "display_name": "Python 3",
   "language": "python",
   "name": "python3"
  },
  "language_info": {
   "codemirror_mode": {
    "name": "ipython",
    "version": 3
   },
   "file_extension": ".py",
   "mimetype": "text/x-python",
   "name": "python",
   "nbconvert_exporter": "python",
   "pygments_lexer": "ipython3",
   "version": "3.7.8"
  }
 },
 "nbformat": 4,
 "nbformat_minor": 5
}
