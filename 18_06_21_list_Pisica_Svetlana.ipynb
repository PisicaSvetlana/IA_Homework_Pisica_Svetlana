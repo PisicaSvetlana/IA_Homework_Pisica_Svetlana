{
 "cells": [
  {
   "cell_type": "code",
   "execution_count": 31,
   "id": "f9ebc9c7",
   "metadata": {},
   "outputs": [
    {
     "name": "stdout",
     "output_type": "stream",
     "text": [
      "index number\n",
      "  0     5\n",
      "  4     7\n",
      "  6     3\n",
      "  10     1\n"
     ]
    }
   ],
   "source": [
    "# even index and odd value\n",
    "numbers=[5,9,10,20,7,6,3,12,40,8,1]\n",
    "print (\"index number\")\n",
    "    \n",
    "for n in numbers:\n",
    "   if ((n % 2) == 1) and (numbers.index(n) % 2 == 0 ):\n",
    "    print (' ',numbers.index(n),'   ', n)   \n"
   ]
  },
  {
   "cell_type": "code",
   "execution_count": 42,
   "id": "620f3bdc",
   "metadata": {},
   "outputs": [
    {
     "name": "stdout",
     "output_type": "stream",
     "text": [
      "Sentance    Name\n",
      "    1       Ana\n",
      "    3       Maria\n",
      "    2       Svetlana\n",
      "    0       Vasile\n"
     ]
    }
   ],
   "source": [
    "names = [\"Ion\", \"Ana\", \"Maria\", \"Svetlana\", \"Vasile\"]\n",
    "\n",
    "sentances = [\"Eu vorbesc cu Vasile \", \n",
    "             \"Sora mea este Ana si este frumoasa\",  \n",
    "             \"Svetlana este o fata buna\",\n",
    "             \"Ce faci Maria?\"]   \n",
    "\n",
    "print (\"Sentance    Name\")\n",
    "\n",
    "for x in names:\n",
    "    for i in range (len(sentances)):\n",
    "            if x in sentances [i]:\n",
    "                print ('   ',i,'     ', x)  \n",
    "                "
   ]
  },
  {
   "cell_type": "code",
   "execution_count": null,
   "id": "5d3b912b",
   "metadata": {},
   "outputs": [],
   "source": []
  }
 ],
 "metadata": {
  "kernelspec": {
   "display_name": "Python 3",
   "language": "python",
   "name": "python3"
  },
  "language_info": {
   "codemirror_mode": {
    "name": "ipython",
    "version": 3
   },
   "file_extension": ".py",
   "mimetype": "text/x-python",
   "name": "python",
   "nbconvert_exporter": "python",
   "pygments_lexer": "ipython3",
   "version": "3.7.8"
  }
 },
 "nbformat": 4,
 "nbformat_minor": 5
}
